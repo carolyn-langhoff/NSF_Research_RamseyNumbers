{
 "cells": [
  {
   "cell_type": "code",
   "execution_count": 17,
   "metadata": {},
   "outputs": [],
   "source": [
    "# Import SAT Solver and itertools\n",
    "import satispy\n",
    "from satispy import Variable, Cnf\n",
    "from satispy.solver import Minisat\n",
    "import itertools"
   ]
  },
  {
   "cell_type": "code",
   "execution_count": 18,
   "metadata": {},
   "outputs": [
    {
     "name": "stdout",
     "output_type": "stream",
     "text": [
      "Checking  1\n",
      "You are below the minimum Ramsey Number\n",
      "\n",
      "\n",
      "Checking  2\n",
      "You are below the minimum Ramsey Number\n",
      "\n",
      "\n",
      "Checking  3\n",
      "You are below the minimum Ramsey Number\n",
      "\n",
      "\n",
      "Checking  4\n",
      "Checking  5\n",
      "Checking  6\n",
      "Checking  7\n",
      "Checking  8\n",
      "Checking  9\n",
      "Checking  10\n",
      "Checking  11\n",
      "Checking  12\n",
      "Checking  13\n",
      "Checking  14\n",
      "Checking  15\n",
      "Checking  16\n",
      "Checking  17\n",
      "Checking  18\n",
      "Checking  19\n",
      "Ramsey Number:  19\n"
     ]
    }
   ],
   "source": [
    "# Variables\n",
    "z = 1\n",
    "vertices = [z]\n",
    "edges = list(itertools.combinations(vertices, 2))\n",
    "variables = {edge : Variable(str(edge)) for edge in edges}\n",
    "phi = Cnf()\n",
    "solver = Minisat('minisat %s %s')\n",
    "x = 0\n",
    "\n",
    "#Loop to continue checking until a solution is found\n",
    "while x == 0:\n",
    "\n",
    "    print(\"Checking \",z)\n",
    "\n",
    "    # Loops to check for graphs in the complete graph\n",
    "    \n",
    "    # Path\n",
    "    for i,j,k,l in itertools.combinations(vertices,4):\n",
    "    \n",
    "        phi &= variables[(i,j)] | variables[(j,k)] | variables[(k,l)] \n",
    "       \n",
    "    # Complete graph w/ pendant   \n",
    "    for i,j,k,l,m,n,o in itertools.combinations(vertices,7):\n",
    "    \n",
    "        phi &= (-variables[(i,j)] | -variables[(j,k)] | -variables[(j,m)] | -variables[(k,l)] |\n",
    "                -variables[(l,m)] | -variables[(j,l)] | -variables[(k,m)] | -variables[(m,n)] | \n",
    "                -variables[(j,n)] | -variables[(k,n)] | -variables[(l,n)] | -variables[(j,o)] | \n",
    "                -variables[(k,o)] | -variables[(l,o)] | -variables[(m,o)] | -variables[(m,o)])\n",
    "       \n",
    "        \n",
    "    # Find answer using the SAT Solver and store it in solution  \n",
    "    try:\n",
    "        solution = solver.solve(phi)\n",
    "        \n",
    "        if solution.success == False:\n",
    "            x = 1\n",
    "            print(\"Ramsey Number: \",z)\n",
    "            \n",
    "    except IndexError:\n",
    "       print(\"You are below the minimum Ramsey Number\\n\\n\")\n",
    "        \n",
    "    \n",
    "    \n",
    "    z = z + 1\n",
    "    vertices.append(z)\n",
    "    edges = list(itertools.combinations(vertices, 2))\n",
    "    variables = {edge : Variable(str(edge)) for edge in edges}\n",
    "    phi = Cnf()\n",
    "\n"
   ]
  }
 ],
 "metadata": {
  "kernelspec": {
   "display_name": "Python 3",
   "language": "python",
   "name": "python3"
  },
  "language_info": {
   "codemirror_mode": {
    "name": "ipython",
    "version": 3
   },
   "file_extension": ".py",
   "mimetype": "text/x-python",
   "name": "python",
   "nbconvert_exporter": "python",
   "pygments_lexer": "ipython3",
   "version": "3.5.3"
  }
 },
 "nbformat": 4,
 "nbformat_minor": 2
}
